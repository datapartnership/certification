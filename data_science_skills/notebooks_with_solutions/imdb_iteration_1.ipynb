{
 "cells": [
  {
   "cell_type": "code",
   "execution_count": 1,
   "id": "e711deba-e382-4318-943c-c8c9b7916159",
   "metadata": {},
   "outputs": [],
   "source": [
    "import pandas as pd\n",
    "import matplotlib.pyplot as plt\n",
    "import seaborn as sns\n",
    "import random\n",
    "import numpy as np"
   ]
  },
  {
   "cell_type": "code",
   "execution_count": 2,
   "id": "264f8cea-5dfd-4059-912b-c394ab0725d4",
   "metadata": {},
   "outputs": [],
   "source": [
    "credits = pd.read_csv('./data/tmdb_5000_credits.csv')\n",
    "movies = pd.read_csv('./data/tmdb_5000_movies.csv')"
   ]
  },
  {
   "cell_type": "code",
   "execution_count": 3,
   "id": "f52ca3f5-ca5a-404d-aa9e-bb69fb45d5cc",
   "metadata": {},
   "outputs": [
    {
     "data": {
      "text/html": [
       "<div>\n",
       "<style scoped>\n",
       "    .dataframe tbody tr th:only-of-type {\n",
       "        vertical-align: middle;\n",
       "    }\n",
       "\n",
       "    .dataframe tbody tr th {\n",
       "        vertical-align: top;\n",
       "    }\n",
       "\n",
       "    .dataframe thead th {\n",
       "        text-align: right;\n",
       "    }\n",
       "</style>\n",
       "<table border=\"1\" class=\"dataframe\">\n",
       "  <thead>\n",
       "    <tr style=\"text-align: right;\">\n",
       "      <th></th>\n",
       "      <th>movie_id</th>\n",
       "      <th>title</th>\n",
       "      <th>cast</th>\n",
       "      <th>crew</th>\n",
       "    </tr>\n",
       "  </thead>\n",
       "  <tbody>\n",
       "    <tr>\n",
       "      <th>0</th>\n",
       "      <td>19995</td>\n",
       "      <td>Avatar</td>\n",
       "      <td>[{\"cast_id\": 242, \"character\": \"Jake Sully\", \"...</td>\n",
       "      <td>[{\"credit_id\": \"52fe48009251416c750aca23\", \"de...</td>\n",
       "    </tr>\n",
       "    <tr>\n",
       "      <th>1</th>\n",
       "      <td>285</td>\n",
       "      <td>Pirates of the Caribbean: At World's End</td>\n",
       "      <td>[{\"cast_id\": 4, \"character\": \"Captain Jack Spa...</td>\n",
       "      <td>[{\"credit_id\": \"52fe4232c3a36847f800b579\", \"de...</td>\n",
       "    </tr>\n",
       "    <tr>\n",
       "      <th>2</th>\n",
       "      <td>206647</td>\n",
       "      <td>Spectre</td>\n",
       "      <td>[{\"cast_id\": 1, \"character\": \"James Bond\", \"cr...</td>\n",
       "      <td>[{\"credit_id\": \"54805967c3a36829b5002c41\", \"de...</td>\n",
       "    </tr>\n",
       "    <tr>\n",
       "      <th>3</th>\n",
       "      <td>49026</td>\n",
       "      <td>The Dark Knight Rises</td>\n",
       "      <td>[{\"cast_id\": 2, \"character\": \"Bruce Wayne / Ba...</td>\n",
       "      <td>[{\"credit_id\": \"52fe4781c3a36847f81398c3\", \"de...</td>\n",
       "    </tr>\n",
       "    <tr>\n",
       "      <th>4</th>\n",
       "      <td>49529</td>\n",
       "      <td>John Carter</td>\n",
       "      <td>[{\"cast_id\": 5, \"character\": \"John Carter\", \"c...</td>\n",
       "      <td>[{\"credit_id\": \"52fe479ac3a36847f813eaa3\", \"de...</td>\n",
       "    </tr>\n",
       "  </tbody>\n",
       "</table>\n",
       "</div>"
      ],
      "text/plain": [
       "   movie_id                                     title  \\\n",
       "0     19995                                    Avatar   \n",
       "1       285  Pirates of the Caribbean: At World's End   \n",
       "2    206647                                   Spectre   \n",
       "3     49026                     The Dark Knight Rises   \n",
       "4     49529                               John Carter   \n",
       "\n",
       "                                                cast  \\\n",
       "0  [{\"cast_id\": 242, \"character\": \"Jake Sully\", \"...   \n",
       "1  [{\"cast_id\": 4, \"character\": \"Captain Jack Spa...   \n",
       "2  [{\"cast_id\": 1, \"character\": \"James Bond\", \"cr...   \n",
       "3  [{\"cast_id\": 2, \"character\": \"Bruce Wayne / Ba...   \n",
       "4  [{\"cast_id\": 5, \"character\": \"John Carter\", \"c...   \n",
       "\n",
       "                                                crew  \n",
       "0  [{\"credit_id\": \"52fe48009251416c750aca23\", \"de...  \n",
       "1  [{\"credit_id\": \"52fe4232c3a36847f800b579\", \"de...  \n",
       "2  [{\"credit_id\": \"54805967c3a36829b5002c41\", \"de...  \n",
       "3  [{\"credit_id\": \"52fe4781c3a36847f81398c3\", \"de...  \n",
       "4  [{\"credit_id\": \"52fe479ac3a36847f813eaa3\", \"de...  "
      ]
     },
     "execution_count": 3,
     "metadata": {},
     "output_type": "execute_result"
    }
   ],
   "source": [
    "credits.head()"
   ]
  },
  {
   "cell_type": "code",
   "execution_count": 4,
   "id": "9b4ccb85-1490-4847-9ae0-e26d601e4eb1",
   "metadata": {},
   "outputs": [
    {
     "data": {
      "text/html": [
       "<div>\n",
       "<style scoped>\n",
       "    .dataframe tbody tr th:only-of-type {\n",
       "        vertical-align: middle;\n",
       "    }\n",
       "\n",
       "    .dataframe tbody tr th {\n",
       "        vertical-align: top;\n",
       "    }\n",
       "\n",
       "    .dataframe thead th {\n",
       "        text-align: right;\n",
       "    }\n",
       "</style>\n",
       "<table border=\"1\" class=\"dataframe\">\n",
       "  <thead>\n",
       "    <tr style=\"text-align: right;\">\n",
       "      <th></th>\n",
       "      <th>budget</th>\n",
       "      <th>genres</th>\n",
       "      <th>homepage</th>\n",
       "      <th>id</th>\n",
       "      <th>keywords</th>\n",
       "      <th>original_language</th>\n",
       "      <th>original_title</th>\n",
       "      <th>overview</th>\n",
       "      <th>popularity</th>\n",
       "      <th>production_companies</th>\n",
       "      <th>production_countries</th>\n",
       "      <th>release_date</th>\n",
       "      <th>revenue</th>\n",
       "      <th>runtime</th>\n",
       "      <th>spoken_languages</th>\n",
       "      <th>status</th>\n",
       "      <th>tagline</th>\n",
       "      <th>title</th>\n",
       "      <th>vote_average</th>\n",
       "      <th>vote_count</th>\n",
       "    </tr>\n",
       "  </thead>\n",
       "  <tbody>\n",
       "    <tr>\n",
       "      <th>0</th>\n",
       "      <td>237000000</td>\n",
       "      <td>[{\"id\": 28, \"name\": \"Action\"}, {\"id\": 12, \"nam...</td>\n",
       "      <td>http://www.avatarmovie.com/</td>\n",
       "      <td>19995</td>\n",
       "      <td>[{\"id\": 1463, \"name\": \"culture clash\"}, {\"id\":...</td>\n",
       "      <td>en</td>\n",
       "      <td>Avatar</td>\n",
       "      <td>In the 22nd century, a paraplegic Marine is di...</td>\n",
       "      <td>150.437577</td>\n",
       "      <td>[{\"name\": \"Ingenious Film Partners\", \"id\": 289...</td>\n",
       "      <td>[{\"iso_3166_1\": \"US\", \"name\": \"United States o...</td>\n",
       "      <td>2009-12-10</td>\n",
       "      <td>2787965087</td>\n",
       "      <td>162.0</td>\n",
       "      <td>[{\"iso_639_1\": \"en\", \"name\": \"English\"}, {\"iso...</td>\n",
       "      <td>Released</td>\n",
       "      <td>Enter the World of Pandora.</td>\n",
       "      <td>Avatar</td>\n",
       "      <td>7.2</td>\n",
       "      <td>11800</td>\n",
       "    </tr>\n",
       "    <tr>\n",
       "      <th>1</th>\n",
       "      <td>300000000</td>\n",
       "      <td>[{\"id\": 12, \"name\": \"Adventure\"}, {\"id\": 14, \"...</td>\n",
       "      <td>http://disney.go.com/disneypictures/pirates/</td>\n",
       "      <td>285</td>\n",
       "      <td>[{\"id\": 270, \"name\": \"ocean\"}, {\"id\": 726, \"na...</td>\n",
       "      <td>en</td>\n",
       "      <td>Pirates of the Caribbean: At World's End</td>\n",
       "      <td>Captain Barbossa, long believed to be dead, ha...</td>\n",
       "      <td>139.082615</td>\n",
       "      <td>[{\"name\": \"Walt Disney Pictures\", \"id\": 2}, {\"...</td>\n",
       "      <td>[{\"iso_3166_1\": \"US\", \"name\": \"United States o...</td>\n",
       "      <td>2007-05-19</td>\n",
       "      <td>961000000</td>\n",
       "      <td>169.0</td>\n",
       "      <td>[{\"iso_639_1\": \"en\", \"name\": \"English\"}]</td>\n",
       "      <td>Released</td>\n",
       "      <td>At the end of the world, the adventure begins.</td>\n",
       "      <td>Pirates of the Caribbean: At World's End</td>\n",
       "      <td>6.9</td>\n",
       "      <td>4500</td>\n",
       "    </tr>\n",
       "    <tr>\n",
       "      <th>2</th>\n",
       "      <td>245000000</td>\n",
       "      <td>[{\"id\": 28, \"name\": \"Action\"}, {\"id\": 12, \"nam...</td>\n",
       "      <td>http://www.sonypictures.com/movies/spectre/</td>\n",
       "      <td>206647</td>\n",
       "      <td>[{\"id\": 470, \"name\": \"spy\"}, {\"id\": 818, \"name...</td>\n",
       "      <td>en</td>\n",
       "      <td>Spectre</td>\n",
       "      <td>A cryptic message from Bond’s past sends him o...</td>\n",
       "      <td>107.376788</td>\n",
       "      <td>[{\"name\": \"Columbia Pictures\", \"id\": 5}, {\"nam...</td>\n",
       "      <td>[{\"iso_3166_1\": \"GB\", \"name\": \"United Kingdom\"...</td>\n",
       "      <td>2015-10-26</td>\n",
       "      <td>880674609</td>\n",
       "      <td>148.0</td>\n",
       "      <td>[{\"iso_639_1\": \"fr\", \"name\": \"Fran\\u00e7ais\"},...</td>\n",
       "      <td>Released</td>\n",
       "      <td>A Plan No One Escapes</td>\n",
       "      <td>Spectre</td>\n",
       "      <td>6.3</td>\n",
       "      <td>4466</td>\n",
       "    </tr>\n",
       "    <tr>\n",
       "      <th>3</th>\n",
       "      <td>250000000</td>\n",
       "      <td>[{\"id\": 28, \"name\": \"Action\"}, {\"id\": 80, \"nam...</td>\n",
       "      <td>http://www.thedarkknightrises.com/</td>\n",
       "      <td>49026</td>\n",
       "      <td>[{\"id\": 849, \"name\": \"dc comics\"}, {\"id\": 853,...</td>\n",
       "      <td>en</td>\n",
       "      <td>The Dark Knight Rises</td>\n",
       "      <td>Following the death of District Attorney Harve...</td>\n",
       "      <td>112.312950</td>\n",
       "      <td>[{\"name\": \"Legendary Pictures\", \"id\": 923}, {\"...</td>\n",
       "      <td>[{\"iso_3166_1\": \"US\", \"name\": \"United States o...</td>\n",
       "      <td>2012-07-16</td>\n",
       "      <td>1084939099</td>\n",
       "      <td>165.0</td>\n",
       "      <td>[{\"iso_639_1\": \"en\", \"name\": \"English\"}]</td>\n",
       "      <td>Released</td>\n",
       "      <td>The Legend Ends</td>\n",
       "      <td>The Dark Knight Rises</td>\n",
       "      <td>7.6</td>\n",
       "      <td>9106</td>\n",
       "    </tr>\n",
       "    <tr>\n",
       "      <th>4</th>\n",
       "      <td>260000000</td>\n",
       "      <td>[{\"id\": 28, \"name\": \"Action\"}, {\"id\": 12, \"nam...</td>\n",
       "      <td>http://movies.disney.com/john-carter</td>\n",
       "      <td>49529</td>\n",
       "      <td>[{\"id\": 818, \"name\": \"based on novel\"}, {\"id\":...</td>\n",
       "      <td>en</td>\n",
       "      <td>John Carter</td>\n",
       "      <td>John Carter is a war-weary, former military ca...</td>\n",
       "      <td>43.926995</td>\n",
       "      <td>[{\"name\": \"Walt Disney Pictures\", \"id\": 2}]</td>\n",
       "      <td>[{\"iso_3166_1\": \"US\", \"name\": \"United States o...</td>\n",
       "      <td>2012-03-07</td>\n",
       "      <td>284139100</td>\n",
       "      <td>132.0</td>\n",
       "      <td>[{\"iso_639_1\": \"en\", \"name\": \"English\"}]</td>\n",
       "      <td>Released</td>\n",
       "      <td>Lost in our world, found in another.</td>\n",
       "      <td>John Carter</td>\n",
       "      <td>6.1</td>\n",
       "      <td>2124</td>\n",
       "    </tr>\n",
       "  </tbody>\n",
       "</table>\n",
       "</div>"
      ],
      "text/plain": [
       "      budget                                             genres  \\\n",
       "0  237000000  [{\"id\": 28, \"name\": \"Action\"}, {\"id\": 12, \"nam...   \n",
       "1  300000000  [{\"id\": 12, \"name\": \"Adventure\"}, {\"id\": 14, \"...   \n",
       "2  245000000  [{\"id\": 28, \"name\": \"Action\"}, {\"id\": 12, \"nam...   \n",
       "3  250000000  [{\"id\": 28, \"name\": \"Action\"}, {\"id\": 80, \"nam...   \n",
       "4  260000000  [{\"id\": 28, \"name\": \"Action\"}, {\"id\": 12, \"nam...   \n",
       "\n",
       "                                       homepage      id  \\\n",
       "0                   http://www.avatarmovie.com/   19995   \n",
       "1  http://disney.go.com/disneypictures/pirates/     285   \n",
       "2   http://www.sonypictures.com/movies/spectre/  206647   \n",
       "3            http://www.thedarkknightrises.com/   49026   \n",
       "4          http://movies.disney.com/john-carter   49529   \n",
       "\n",
       "                                            keywords original_language  \\\n",
       "0  [{\"id\": 1463, \"name\": \"culture clash\"}, {\"id\":...                en   \n",
       "1  [{\"id\": 270, \"name\": \"ocean\"}, {\"id\": 726, \"na...                en   \n",
       "2  [{\"id\": 470, \"name\": \"spy\"}, {\"id\": 818, \"name...                en   \n",
       "3  [{\"id\": 849, \"name\": \"dc comics\"}, {\"id\": 853,...                en   \n",
       "4  [{\"id\": 818, \"name\": \"based on novel\"}, {\"id\":...                en   \n",
       "\n",
       "                             original_title  \\\n",
       "0                                    Avatar   \n",
       "1  Pirates of the Caribbean: At World's End   \n",
       "2                                   Spectre   \n",
       "3                     The Dark Knight Rises   \n",
       "4                               John Carter   \n",
       "\n",
       "                                            overview  popularity  \\\n",
       "0  In the 22nd century, a paraplegic Marine is di...  150.437577   \n",
       "1  Captain Barbossa, long believed to be dead, ha...  139.082615   \n",
       "2  A cryptic message from Bond’s past sends him o...  107.376788   \n",
       "3  Following the death of District Attorney Harve...  112.312950   \n",
       "4  John Carter is a war-weary, former military ca...   43.926995   \n",
       "\n",
       "                                production_companies  \\\n",
       "0  [{\"name\": \"Ingenious Film Partners\", \"id\": 289...   \n",
       "1  [{\"name\": \"Walt Disney Pictures\", \"id\": 2}, {\"...   \n",
       "2  [{\"name\": \"Columbia Pictures\", \"id\": 5}, {\"nam...   \n",
       "3  [{\"name\": \"Legendary Pictures\", \"id\": 923}, {\"...   \n",
       "4        [{\"name\": \"Walt Disney Pictures\", \"id\": 2}]   \n",
       "\n",
       "                                production_countries release_date     revenue  \\\n",
       "0  [{\"iso_3166_1\": \"US\", \"name\": \"United States o...   2009-12-10  2787965087   \n",
       "1  [{\"iso_3166_1\": \"US\", \"name\": \"United States o...   2007-05-19   961000000   \n",
       "2  [{\"iso_3166_1\": \"GB\", \"name\": \"United Kingdom\"...   2015-10-26   880674609   \n",
       "3  [{\"iso_3166_1\": \"US\", \"name\": \"United States o...   2012-07-16  1084939099   \n",
       "4  [{\"iso_3166_1\": \"US\", \"name\": \"United States o...   2012-03-07   284139100   \n",
       "\n",
       "   runtime                                   spoken_languages    status  \\\n",
       "0    162.0  [{\"iso_639_1\": \"en\", \"name\": \"English\"}, {\"iso...  Released   \n",
       "1    169.0           [{\"iso_639_1\": \"en\", \"name\": \"English\"}]  Released   \n",
       "2    148.0  [{\"iso_639_1\": \"fr\", \"name\": \"Fran\\u00e7ais\"},...  Released   \n",
       "3    165.0           [{\"iso_639_1\": \"en\", \"name\": \"English\"}]  Released   \n",
       "4    132.0           [{\"iso_639_1\": \"en\", \"name\": \"English\"}]  Released   \n",
       "\n",
       "                                          tagline  \\\n",
       "0                     Enter the World of Pandora.   \n",
       "1  At the end of the world, the adventure begins.   \n",
       "2                           A Plan No One Escapes   \n",
       "3                                 The Legend Ends   \n",
       "4            Lost in our world, found in another.   \n",
       "\n",
       "                                      title  vote_average  vote_count  \n",
       "0                                    Avatar           7.2       11800  \n",
       "1  Pirates of the Caribbean: At World's End           6.9        4500  \n",
       "2                                   Spectre           6.3        4466  \n",
       "3                     The Dark Knight Rises           7.6        9106  \n",
       "4                               John Carter           6.1        2124  "
      ]
     },
     "execution_count": 4,
     "metadata": {},
     "output_type": "execute_result"
    }
   ],
   "source": [
    "movies.head(5)"
   ]
  },
  {
   "cell_type": "markdown",
   "id": "b7e4271a-c8b1-4844-ad1f-a275cd2f9b64",
   "metadata": {},
   "source": [
    "## Modify Dataframe for this iteration"
   ]
  },
  {
   "cell_type": "markdown",
   "id": "57ea2049-113a-41f1-99d7-99986cc4e169",
   "metadata": {},
   "source": [
    "### Create missing values"
   ]
  },
  {
   "cell_type": "code",
   "execution_count": 5,
   "id": "dab6948f-c5ee-4717-a09e-65e29fe483bd",
   "metadata": {},
   "outputs": [],
   "source": [
    "missing_movies = {'budget': 509,\n",
    "          'popularity': 389, \n",
    "           'revenue': 282, \n",
    "           'runtime': 465, \n",
    "           'vote_average': 435, \n",
    "           'vote_count': 483}"
   ]
  },
  {
   "cell_type": "code",
   "execution_count": 6,
   "id": "ad86ab9a-4f77-4422-9b87-becb7105f352",
   "metadata": {},
   "outputs": [],
   "source": [
    "for key, value in missing_movies.items():\n",
    "    nulls = len(movies[movies[key].isnull()])\n",
    "    pos = random.sample(range(0, len(movies)), value-nulls)\n",
    "    for x in pos:\n",
    "        movies.loc[x, key] = np.nan\n"
   ]
  },
  {
   "cell_type": "code",
   "execution_count": 7,
   "id": "a26b0931-6a61-4fc8-8e23-c181e41f3eb5",
   "metadata": {},
   "outputs": [],
   "source": [
    "# movies[movies['title']=='The Dark Knight']"
   ]
  },
  {
   "cell_type": "code",
   "execution_count": 8,
   "id": "2f4b0eb9-35b5-4053-ae7d-513a1486e1a5",
   "metadata": {},
   "outputs": [],
   "source": [
    "movies.loc[1881, 'vote_average'] = 7\n",
    "movies.loc[65, 'vote_average'] = 4"
   ]
  },
  {
   "cell_type": "code",
   "execution_count": 9,
   "id": "e4c8c069-10f4-4933-b95f-8d22dccacc02",
   "metadata": {},
   "outputs": [],
   "source": [
    "movies['nominated_oscars'] = random.choices([0,1], k = len(movies))"
   ]
  },
  {
   "cell_type": "code",
   "execution_count": 10,
   "id": "d7201ac5-bcc8-43e0-b595-fb326252bb25",
   "metadata": {},
   "outputs": [
    {
     "data": {
      "text/plain": [
       "count    4803.000000\n",
       "mean        0.496981\n",
       "std         0.500043\n",
       "min         0.000000\n",
       "25%         0.000000\n",
       "50%         0.000000\n",
       "75%         1.000000\n",
       "max         1.000000\n",
       "Name: nominated_oscars, dtype: float64"
      ]
     },
     "execution_count": 10,
     "metadata": {},
     "output_type": "execute_result"
    }
   ],
   "source": [
    "movies['nominated_oscars'].describe()"
   ]
  },
  {
   "cell_type": "code",
   "execution_count": 11,
   "id": "0568c251-c8c8-4918-9418-419e0c051abc",
   "metadata": {},
   "outputs": [],
   "source": [
    "credits.drop('title', axis = 1, inplace = True)"
   ]
  },
  {
   "cell_type": "code",
   "execution_count": 12,
   "id": "0c4cded4-ad3f-4bec-ac16-ff63277857d4",
   "metadata": {},
   "outputs": [],
   "source": [
    "# credits.to_csv('./data/credits_iter_1.csv', index = False)\n",
    "# movies.to_csv('./data/movies_iter_1.csv', index = False)"
   ]
  },
  {
   "cell_type": "code",
   "execution_count": 13,
   "id": "d5646240-a25c-434f-8bf8-0b6f16c64583",
   "metadata": {},
   "outputs": [],
   "source": [
    "# Data source: https://www.kaggle.com/datasets/chaitanyasood1/tmdb-5000-movies"
   ]
  },
  {
   "cell_type": "code",
   "execution_count": 14,
   "id": "2ea0b415-88c7-45df-b769-1bec5656c9a4",
   "metadata": {},
   "outputs": [],
   "source": [
    "credits = pd.read_csv('./data/credits_iter_1.csv')\n",
    "movies = pd.read_csv('./data/movies_iter_1.csv')"
   ]
  },
  {
   "cell_type": "markdown",
   "id": "2eab814a-70ff-4126-8e40-e34cccd6261d",
   "metadata": {},
   "source": [
    "## Questions"
   ]
  },
  {
   "cell_type": "markdown",
   "id": "1860ef94-8b8d-4b52-8523-d22caed43781",
   "metadata": {},
   "source": [
    "### Question 1 - DS1-7\n",
    "There are __________ columns in movie and __________ columns in credits dataset. "
   ]
  },
  {
   "cell_type": "code",
   "execution_count": 15,
   "id": "1c54cc8f-bcaa-4f73-b155-9371c67b7d5f",
   "metadata": {},
   "outputs": [
    {
     "name": "stdout",
     "output_type": "stream",
     "text": [
      "There are 21 columns in movies dataset and 3 columns in credits dataset\n"
     ]
    }
   ],
   "source": [
    "print('There are {} columns in movies dataset and {} columns in credits dataset'.format(len(movies.columns), len(credits.columns)))"
   ]
  },
  {
   "cell_type": "markdown",
   "id": "b401246a-e3d6-47f8-a4d6-53ef2558451c",
   "metadata": {},
   "source": [
    "### Question 2 - DS1-7\n",
    "There are total __________ missing values in movie and  __________ missing values in credit dataset"
   ]
  },
  {
   "cell_type": "code",
   "execution_count": 16,
   "id": "7d6fa460-c044-442c-8393-31589843caec",
   "metadata": {},
   "outputs": [
    {
     "name": "stdout",
     "output_type": "stream",
     "text": [
      "There are total 6502 missing values in movie and 0 missing values in credit dataset\n"
     ]
    }
   ],
   "source": [
    "print('There are total {} missing values in movie and {} missing values in credit dataset'.format(movies.isnull().sum().sum(), credits.isnull().sum().sum()))"
   ]
  },
  {
   "cell_type": "markdown",
   "id": "7b6478cc-5044-4bd9-845b-c9a2af1065e7",
   "metadata": {},
   "source": [
    "### Question 3 - DS1-7\n",
    "\n",
    "What would be the best way to impute missing values in the following columns : \n",
    "\n",
    "1- runtime: __________ \n",
    "\n",
    "2- revenue: __________ \n",
    "\n",
    "Choose between mean, median, mode \n",
    "(DO NOT IMPUTE THE VALUES)"
   ]
  },
  {
   "cell_type": "code",
   "execution_count": 17,
   "id": "7891f0e1-fb3e-47c5-961f-144272b332d9",
   "metadata": {},
   "outputs": [
    {
     "name": "stdout",
     "output_type": "stream",
     "text": [
      "revenue : 4.513038865812198\n",
      "runtime : 0.721971391667876\n"
     ]
    },
    {
     "data": {
      "image/png": "[encoded data removed]",
      "text/plain": [
       "<Figure size 1200x600 with 2 Axes>"
      ]
     },
     "metadata": {},
     "output_type": "display_data"
    },
    {
     "name": "stdout",
     "output_type": "stream",
     "text": [
      "revenue : median\n",
      "runtime : median\n",
      "revenue : 4.656919645931024\n",
      "runtime : 0.797694620393161\n"
     ]
    },
    {
     "data": {
      "image/png": "[encoded data removed]",
      "text/plain": [
       "<Figure size 1200x600 with 2 Axes>"
      ]
     },
     "metadata": {},
     "output_type": "display_data"
    }
   ],
   "source": [
    "from scipy.stats import skew\n",
    "from sklearn.impute import SimpleImputer\n",
    "def plot_distribution_with_imputation(df, numerical_cols, strategy='removed'):\n",
    "    # Copy the DataFrame to avoid modifying the original data\n",
    "    df_copy = df.copy()\n",
    "\n",
    "    # Plot the distribution of numerical columns\n",
    "    plt.figure(figsize=(12, 6))\n",
    "    for col in numerical_cols:\n",
    "        print(f\"{col} : {skew(df_copy[col].dropna())}\")\n",
    "        plt.subplot(2, 3, numerical_cols.index(col) + 1)\n",
    "######################### Question 8 (step 1) #############################################\n",
    "        #make relevant plot to analyse the distribution\n",
    "        sns.histplot(df_copy[col], kde=True)\n",
    "######################### Question 8 (step 1) #############################################\n",
    "        plt.title(f'Distribution of {col} ({strategy} imputation)')\n",
    "        plt.xlabel(col)\n",
    "        plt.ylabel('Frequency')\n",
    "    plt.tight_layout()\n",
    "    plt.show()\n",
    "plot_distribution_with_imputation(movies, ['revenue','runtime'], strategy='removed')\n",
    "\n",
    "\n",
    "def impute_numerical_skew(df, numerical_cols):\n",
    "    df_copy = df.copy()\n",
    "    for col in numerical_cols:\n",
    "####### Question 8 (step 2) ##############\n",
    "          #fill the values for each column\n",
    "        if skew(df_copy[col].dropna()) > 0:\n",
    "            imputer = SimpleImputer(strategy='median')\n",
    "            print(f\"{col} : median\")\n",
    "        else:\n",
    "            imputer = SimpleImputer(strategy='mean')\n",
    "            print(f\"{col} : mean\")\n",
    "        df_copy[col] = imputer.fit_transform(df_copy[[col]])\n",
    "####### Question 8 (step 2) ##############\n",
    "    return df_copy\n",
    "\n",
    "missing_col = ['revenue','runtime']\n",
    "imputed_df = impute_numerical_skew(movies, missing_col)\n",
    "# Visualize the distribution after imputation\n",
    "plot_distribution_with_imputation(imputed_df, missing_col, strategy='imputed')"
   ]
  },
  {
   "cell_type": "markdown",
   "id": "79d10217-f900-4259-92e1-7496234bcfaa",
   "metadata": {},
   "source": [
    "### Question 4 DS1-7\n",
    "The analysis will continue by only using the records that do not have any missing values in the following columns: budget, popularity, revenue, runtime, vote_average, vote_count. \n",
    "The new data frame has ____ rows\n"
   ]
  },
  {
   "cell_type": "code",
   "execution_count": 18,
   "id": "ff55a780-0a5b-4031-af1a-a56ba5066495",
   "metadata": {},
   "outputs": [],
   "source": [
    "movies = movies[(movies['budget'].notnull())&(movies['popularity'].notnull())&(movies['revenue'].notnull())&\n",
    "        (movies['runtime'].notnull())&(movies['vote_average'].notnull())&(movies['vote_count'].notnull())].copy()"
   ]
  },
  {
   "cell_type": "code",
   "execution_count": 19,
   "id": "9cf3b780-3fc1-406a-9840-d86120060cd0",
   "metadata": {},
   "outputs": [
    {
     "data": {
      "text/plain": [
       "2734"
      ]
     },
     "execution_count": 19,
     "metadata": {},
     "output_type": "execute_result"
    }
   ],
   "source": [
    "len(movies)"
   ]
  },
  {
   "cell_type": "markdown",
   "id": "425ca7b0-4f72-4be3-b1ca-774383f130d6",
   "metadata": {},
   "source": [
    "### Question 5 - DS1-1\n",
    "What is the budget that defines the 75% percentile. "
   ]
  },
  {
   "cell_type": "code",
   "execution_count": 35,
   "id": "f307cdf5-23b2-4f70-80a4-4824da22baf9",
   "metadata": {},
   "outputs": [
    {
     "data": {
      "text/plain": [
       "40000000.0"
      ]
     },
     "execution_count": 35,
     "metadata": {},
     "output_type": "execute_result"
    }
   ],
   "source": [
    "q = movies.budget.quantile(0.75)\n",
    "q"
   ]
  },
  {
   "cell_type": "markdown",
   "id": "a3a18d84-91c6-4585-b203-4414164cd04c",
   "metadata": {},
   "source": [
    "### Question 6 - DS1-3\n",
    "Complete the following line of code in [a], [b] and [c] to calculate the mean budget and mean vote_average by original_language:\n",
    "\n",
    "movies.[a] ( [b] )[['budget', [c]]].mean()"
   ]
  },
  {
   "cell_type": "markdown",
   "id": "c022f5e2-e28e-4bc3-b69f-4ead7053246c",
   "metadata": {},
   "source": [
    "### Question 7 DS1-3\n",
    "Which is the original_language that had the second lowest vote_average?"
   ]
  },
  {
   "cell_type": "code",
   "execution_count": 22,
   "id": "11570c0b-8bc9-41c7-aff8-ddfd811593b7",
   "metadata": {},
   "outputs": [
    {
     "data": {
      "text/html": [
       "<div>\n",
       "<style scoped>\n",
       "    .dataframe tbody tr th:only-of-type {\n",
       "        vertical-align: middle;\n",
       "    }\n",
       "\n",
       "    .dataframe tbody tr th {\n",
       "        vertical-align: top;\n",
       "    }\n",
       "\n",
       "    .dataframe thead th {\n",
       "        text-align: right;\n",
       "    }\n",
       "</style>\n",
       "<table border=\"1\" class=\"dataframe\">\n",
       "  <thead>\n",
       "    <tr style=\"text-align: right;\">\n",
       "      <th></th>\n",
       "      <th>budget</th>\n",
       "      <th>vote_average</th>\n",
       "    </tr>\n",
       "    <tr>\n",
       "      <th>original_language</th>\n",
       "      <th></th>\n",
       "      <th></th>\n",
       "    </tr>\n",
       "  </thead>\n",
       "  <tbody>\n",
       "    <tr>\n",
       "      <th>ky</th>\n",
       "      <td>0.000000e+00</td>\n",
       "      <td>0.000000</td>\n",
       "    </tr>\n",
       "    <tr>\n",
       "      <th>ro</th>\n",
       "      <td>4.262550e+05</td>\n",
       "      <td>3.650000</td>\n",
       "    </tr>\n",
       "    <tr>\n",
       "      <th>tr</th>\n",
       "      <td>1.000000e+07</td>\n",
       "      <td>4.300000</td>\n",
       "    </tr>\n",
       "    <tr>\n",
       "      <th>vi</th>\n",
       "      <td>1.300000e+06</td>\n",
       "      <td>5.000000</td>\n",
       "    </tr>\n",
       "    <tr>\n",
       "      <th>hi</th>\n",
       "      <td>1.040909e+06</td>\n",
       "      <td>5.536364</td>\n",
       "    </tr>\n",
       "    <tr>\n",
       "      <th>cs</th>\n",
       "      <td>0.000000e+00</td>\n",
       "      <td>5.650000</td>\n",
       "    </tr>\n",
       "    <tr>\n",
       "      <th>th</th>\n",
       "      <td>3.000000e+06</td>\n",
       "      <td>5.950000</td>\n",
       "    </tr>\n",
       "    <tr>\n",
       "      <th>sl</th>\n",
       "      <td>0.000000e+00</td>\n",
       "      <td>6.000000</td>\n",
       "    </tr>\n",
       "    <tr>\n",
       "      <th>en</th>\n",
       "      <td>3.041259e+07</td>\n",
       "      <td>6.092656</td>\n",
       "    </tr>\n",
       "    <tr>\n",
       "      <th>no</th>\n",
       "      <td>8.000000e+05</td>\n",
       "      <td>6.100000</td>\n",
       "    </tr>\n",
       "    <tr>\n",
       "      <th>ps</th>\n",
       "      <td>4.600000e+04</td>\n",
       "      <td>6.300000</td>\n",
       "    </tr>\n",
       "    <tr>\n",
       "      <th>zh</th>\n",
       "      <td>1.651257e+07</td>\n",
       "      <td>6.325000</td>\n",
       "    </tr>\n",
       "    <tr>\n",
       "      <th>cn</th>\n",
       "      <td>9.152119e+06</td>\n",
       "      <td>6.487500</td>\n",
       "    </tr>\n",
       "    <tr>\n",
       "      <th>da</th>\n",
       "      <td>1.886667e+07</td>\n",
       "      <td>6.566667</td>\n",
       "    </tr>\n",
       "    <tr>\n",
       "      <th>it</th>\n",
       "      <td>1.071471e+05</td>\n",
       "      <td>6.571429</td>\n",
       "    </tr>\n",
       "    <tr>\n",
       "      <th>fr</th>\n",
       "      <td>9.681200e+06</td>\n",
       "      <td>6.589744</td>\n",
       "    </tr>\n",
       "    <tr>\n",
       "      <th>de</th>\n",
       "      <td>1.071704e+07</td>\n",
       "      <td>6.611765</td>\n",
       "    </tr>\n",
       "    <tr>\n",
       "      <th>ru</th>\n",
       "      <td>9.150000e+06</td>\n",
       "      <td>6.650000</td>\n",
       "    </tr>\n",
       "    <tr>\n",
       "      <th>ta</th>\n",
       "      <td>0.000000e+00</td>\n",
       "      <td>6.700000</td>\n",
       "    </tr>\n",
       "    <tr>\n",
       "      <th>es</th>\n",
       "      <td>6.061293e+06</td>\n",
       "      <td>6.835000</td>\n",
       "    </tr>\n",
       "    <tr>\n",
       "      <th>sv</th>\n",
       "      <td>8.333333e+06</td>\n",
       "      <td>6.866667</td>\n",
       "    </tr>\n",
       "    <tr>\n",
       "      <th>ko</th>\n",
       "      <td>7.840000e+06</td>\n",
       "      <td>6.900000</td>\n",
       "    </tr>\n",
       "    <tr>\n",
       "      <th>is</th>\n",
       "      <td>1.000000e+01</td>\n",
       "      <td>6.900000</td>\n",
       "    </tr>\n",
       "    <tr>\n",
       "      <th>xx</th>\n",
       "      <td>1.200000e+07</td>\n",
       "      <td>7.100000</td>\n",
       "    </tr>\n",
       "    <tr>\n",
       "      <th>pl</th>\n",
       "      <td>2.159280e+06</td>\n",
       "      <td>7.100000</td>\n",
       "    </tr>\n",
       "    <tr>\n",
       "      <th>he</th>\n",
       "      <td>0.000000e+00</td>\n",
       "      <td>7.200000</td>\n",
       "    </tr>\n",
       "    <tr>\n",
       "      <th>ja</th>\n",
       "      <td>9.502857e+06</td>\n",
       "      <td>7.200000</td>\n",
       "    </tr>\n",
       "    <tr>\n",
       "      <th>nl</th>\n",
       "      <td>4.250000e+06</td>\n",
       "      <td>7.250000</td>\n",
       "    </tr>\n",
       "    <tr>\n",
       "      <th>fa</th>\n",
       "      <td>6.000000e+04</td>\n",
       "      <td>7.266667</td>\n",
       "    </tr>\n",
       "    <tr>\n",
       "      <th>te</th>\n",
       "      <td>4.000000e+07</td>\n",
       "      <td>7.500000</td>\n",
       "    </tr>\n",
       "    <tr>\n",
       "      <th>id</th>\n",
       "      <td>1.000000e+06</td>\n",
       "      <td>7.500000</td>\n",
       "    </tr>\n",
       "    <tr>\n",
       "      <th>pt</th>\n",
       "      <td>1.460000e+06</td>\n",
       "      <td>7.500000</td>\n",
       "    </tr>\n",
       "  </tbody>\n",
       "</table>\n",
       "</div>"
      ],
      "text/plain": [
       "                         budget  vote_average\n",
       "original_language                            \n",
       "ky                 0.000000e+00      0.000000\n",
       "ro                 4.262550e+05      3.650000\n",
       "tr                 1.000000e+07      4.300000\n",
       "vi                 1.300000e+06      5.000000\n",
       "hi                 1.040909e+06      5.536364\n",
       "cs                 0.000000e+00      5.650000\n",
       "th                 3.000000e+06      5.950000\n",
       "sl                 0.000000e+00      6.000000\n",
       "en                 3.041259e+07      6.092656\n",
       "no                 8.000000e+05      6.100000\n",
       "ps                 4.600000e+04      6.300000\n",
       "zh                 1.651257e+07      6.325000\n",
       "cn                 9.152119e+06      6.487500\n",
       "da                 1.886667e+07      6.566667\n",
       "it                 1.071471e+05      6.571429\n",
       "fr                 9.681200e+06      6.589744\n",
       "de                 1.071704e+07      6.611765\n",
       "ru                 9.150000e+06      6.650000\n",
       "ta                 0.000000e+00      6.700000\n",
       "es                 6.061293e+06      6.835000\n",
       "sv                 8.333333e+06      6.866667\n",
       "ko                 7.840000e+06      6.900000\n",
       "is                 1.000000e+01      6.900000\n",
       "xx                 1.200000e+07      7.100000\n",
       "pl                 2.159280e+06      7.100000\n",
       "he                 0.000000e+00      7.200000\n",
       "ja                 9.502857e+06      7.200000\n",
       "nl                 4.250000e+06      7.250000\n",
       "fa                 6.000000e+04      7.266667\n",
       "te                 4.000000e+07      7.500000\n",
       "id                 1.000000e+06      7.500000\n",
       "pt                 1.460000e+06      7.500000"
      ]
     },
     "execution_count": 22,
     "metadata": {},
     "output_type": "execute_result"
    }
   ],
   "source": [
    "movies.groupby( 'original_language' )[['budget', 'vote_average']].mean().sort_values('vote_average')"
   ]
  },
  {
   "cell_type": "markdown",
   "id": "d455b1f0-4317-46d2-b5bb-23d556e642a1",
   "metadata": {},
   "source": [
    "### Question 8 DS1-3\n",
    "There are ______ movies that:\n",
    "- Spent more than 1,000,000\n",
    "- Its runtime is above 100 minutes or below 60 minutes\n",
    "- Its original language is abbreviated as 'fr' or 'es'"
   ]
  },
  {
   "cell_type": "code",
   "execution_count": 23,
   "id": "33b3511d-474d-42e4-b1a2-9495b211ea8a",
   "metadata": {},
   "outputs": [
    {
     "data": {
      "text/plain": [
       "23"
      ]
     },
     "execution_count": 23,
     "metadata": {},
     "output_type": "execute_result"
    }
   ],
   "source": [
    "len(movies[(movies['budget']>1000000) & ((movies['runtime']>100)|(movies['runtime']<60)) &\n",
    "       (movies['original_language'].isin(['fr', 'es']))])"
   ]
  },
  {
   "cell_type": "markdown",
   "id": "2e178269-1ec2-4afb-ac02-891a4687061e",
   "metadata": {},
   "source": [
    "### Question 9 - DS1-2\n",
    "It is useful to createa a scatter plot between `budget` and `revenue` from the dataset movies"
   ]
  },
  {
   "cell_type": "code",
   "execution_count": 24,
   "id": "99b3111e-356f-4a0e-9608-7dc726ea4d3c",
   "metadata": {},
   "outputs": [
    {
     "data": {
      "text/plain": [
       "<matplotlib.collections.PathCollection at 0x727d2c454580>"
      ]
     },
     "execution_count": 24,
     "metadata": {},
     "output_type": "execute_result"
    },
    {
     "data": {
      "image/png": "[encoded data removed]",
      "text/plain": [
       "<Figure size 640x480 with 1 Axes>"
      ]
     },
     "metadata": {},
     "output_type": "display_data"
    }
   ],
   "source": [
    "plt.scatter(movies.budget, movies.revenue)"
   ]
  },
  {
   "cell_type": "markdown",
   "id": "97445122-06f1-49ee-9c0a-3619cbe26ed8",
   "metadata": {},
   "source": [
    "### Question 10 - DS1-2\n",
    "Which plot would you use to study the distribution of the original_language variable?\n",
    "- scatter plot\n",
    "- pie chart\n",
    "- heatmap"
   ]
  },
  {
   "cell_type": "code",
   "execution_count": 25,
   "id": "d3337089-0d6e-4a8a-999c-083c6d3ac4e7",
   "metadata": {},
   "outputs": [
    {
     "data": {
      "image/png": "[encoded data removed]",
      "text/plain": [
       "<Figure size 640x480 with 1 Axes>"
      ]
     },
     "metadata": {},
     "output_type": "display_data"
    }
   ],
   "source": [
    "plt.pie(movies.groupby('original_language').size());"
   ]
  },
  {
   "cell_type": "markdown",
   "id": "8d35db89-dccc-4bd3-844f-4bd2fa7ec0c1",
   "metadata": {},
   "source": [
    "### Question 11 - Fill in the blanks - DS1-5\n",
    "Combine the movie and credits datasets based on a shared attribute. Fill in the missing value for [a], [b], [c] \n",
    "\n",
    "`combined_df = movies.[a](credits,left_on=[b],right_on=[c],how='left')`\n",
    "\n",
    "Below you can find a description of each dataset columns. \n",
    "***The Credit dataset contains the following features:-***\n",
    "\n",
    "**movie_id** - A unique identifier for each movie.\n",
    "\n",
    "**cast** - The name of lead and supporting actors.\n",
    "\n",
    "**crew** - The name of Director, Editor, Composer, Writer etc.\n",
    "\n",
    "\n",
    "***The Movie dataset has the following features:-***\n",
    "\n",
    "**budget** - The budget in which the movie was made.\n",
    "\n",
    "**genre** - The genre of the movie, Action, Comedy ,Thriller etc.\n",
    "\n",
    "**homepage** - A link to the homepage of the movie.\n",
    "\n",
    "**id** - This is infact the movie_id as in the first dataset.\n",
    "\n",
    "**keywords** - The keywords or tags related to the movie.\n",
    "**original_language** - The language in which the movie was made.\n",
    "\n",
    "**original_title** - The title of the movie before translation or adaptation.\n",
    "\n",
    "**overview** - A brief description of the movie.\n",
    "\n",
    "**popularity** - A numeric quantity specifying the movie popularity.\n",
    "\n",
    "**production_companies** - The production house of the movie.\n",
    "\n",
    "**production_countries** - The country in which it was produced.\n",
    "\n",
    "**release_date** - The date on which it was released.\n",
    "\n",
    "**revenue** - The worldwide revenue generated by the movie.\n",
    "\n",
    "**runtime** - The running time of the movie in minutes.\n",
    "\n",
    "**status** - \"Released\" or \"Rumored\".\n",
    "\n",
    "**tagline** - Movie's tagline.\n",
    "\n",
    "**title** - Title of the movie.\n",
    "\n",
    "**vote_average** - average ratings the movie recieved.\n",
    "\n",
    "**vote_count** - the count of votes recieved."
   ]
  },
  {
   "cell_type": "code",
   "execution_count": 26,
   "id": "a3483840-c798-4027-9204-2a36dd278ca5",
   "metadata": {},
   "outputs": [],
   "source": [
    "combined_df = movies.merge(credits, left_on='id', right_on='movie_id', how='left')"
   ]
  },
  {
   "cell_type": "markdown",
   "id": "600647cf-4158-4fc5-84bf-c840f78393f2",
   "metadata": {},
   "source": [
    "### Question 12 - DS1-7\n",
    "Find the total number of columns after combining the dataframes and by removing redundant columns. "
   ]
  },
  {
   "cell_type": "code",
   "execution_count": 27,
   "id": "3b7b6a77-6205-4a08-b95b-786caed02987",
   "metadata": {},
   "outputs": [
    {
     "name": "stdout",
     "output_type": "stream",
     "text": [
      "23\n"
     ]
    }
   ],
   "source": [
    "combined_df.drop(columns = ['movie_id'], axis=1, inplace=True)\n",
    "print(len(combined_df.columns))"
   ]
  },
  {
   "cell_type": "code",
   "execution_count": 28,
   "id": "44e41c92-8bb9-4f30-9175-d6cddf56efb5",
   "metadata": {},
   "outputs": [],
   "source": [
    "#Question 4 \n",
    "#????????"
   ]
  },
  {
   "cell_type": "markdown",
   "id": "6b3eae81-ca68-4778-9721-59da7dce82ae",
   "metadata": {},
   "source": [
    "### Question 13  - DS1-4\n",
    "\n",
    "Calculate the weighted rating (wr) for the movie\n",
    "\n",
    "WeightedRating(WR)=[(v.R)/(v+m)] + [(m.C)/(v+m)]\n",
    "\n",
    "where,\n",
    "v is the number of votes for the movie;\n",
    "m is the minimum votes required to be listed in the chart;\n",
    "R is the average rating of the movie; And\n",
    "C is the mean vote across the whole report\n",
    "\n",
    "For calculation of m, we will use 95th percentile as our cutoff. In other words, for a movie to feature in the charts, it must have more votes than at least 95% of the movies in the list.\n",
    "\n",
    "List the five movies with the highest WR. "
   ]
  },
  {
   "cell_type": "code",
   "execution_count": 29,
   "id": "8f1713af-f7bf-4cff-ac6b-714a41de5100",
   "metadata": {},
   "outputs": [
    {
     "data": {
      "text/html": [
       "<div>\n",
       "<style scoped>\n",
       "    .dataframe tbody tr th:only-of-type {\n",
       "        vertical-align: middle;\n",
       "    }\n",
       "\n",
       "    .dataframe tbody tr th {\n",
       "        vertical-align: top;\n",
       "    }\n",
       "\n",
       "    .dataframe thead th {\n",
       "        text-align: right;\n",
       "    }\n",
       "</style>\n",
       "<table border=\"1\" class=\"dataframe\">\n",
       "  <thead>\n",
       "    <tr style=\"text-align: right;\">\n",
       "      <th></th>\n",
       "      <th>title</th>\n",
       "      <th>score</th>\n",
       "    </tr>\n",
       "  </thead>\n",
       "  <tbody>\n",
       "    <tr>\n",
       "      <th>53</th>\n",
       "      <td>Inception</td>\n",
       "      <td>7.752997</td>\n",
       "    </tr>\n",
       "    <tr>\n",
       "      <th>470</th>\n",
       "      <td>Forrest Gump</td>\n",
       "      <td>7.639747</td>\n",
       "    </tr>\n",
       "    <tr>\n",
       "      <th>157</th>\n",
       "      <td>The Lord of the Rings: The Fellowship of the Ring</td>\n",
       "      <td>7.527492</td>\n",
       "    </tr>\n",
       "    <tr>\n",
       "      <th>1122</th>\n",
       "      <td>The Empire Strikes Back</td>\n",
       "      <td>7.509367</td>\n",
       "    </tr>\n",
       "    <tr>\n",
       "      <th>1648</th>\n",
       "      <td>Star Wars</td>\n",
       "      <td>7.493875</td>\n",
       "    </tr>\n",
       "  </tbody>\n",
       "</table>\n",
       "</div>"
      ],
      "text/plain": [
       "                                                  title     score\n",
       "53                                            Inception  7.752997\n",
       "470                                        Forrest Gump  7.639747\n",
       "157   The Lord of the Rings: The Fellowship of the Ring  7.527492\n",
       "1122                            The Empire Strikes Back  7.509367\n",
       "1648                                          Star Wars  7.493875"
      ]
     },
     "execution_count": 29,
     "metadata": {},
     "output_type": "execute_result"
    }
   ],
   "source": [
    "#C is the mean vote across the whole report\n",
    "C= combined_df['vote_average'].mean()\n",
    "#We will use 90th percentile as our cutoff.\n",
    "#In other words, for a movie to feature in the charts, it must have more votes than at least 90% of the movies in the list.\n",
    "m= combined_df['vote_count'].quantile(0.95)\n",
    "\n",
    "#weighted_rating\n",
    "def weighted_rating(x, m=m, C=C):\n",
    "    # v is the number of votes for the movie\n",
    "    v = x['vote_count']\n",
    "    #R is the average rating of the movie;\n",
    "    R = x['vote_average']\n",
    "    return (v/(v+m) * R) + (m/(m+v) * C)\n",
    "\n",
    "combined_df['score'] = combined_df.apply(weighted_rating, axis=1)\n",
    "sorted_df = combined_df.sort_values('score', ascending=False)\n",
    "sorted_df[['title', 'score']].head(5)"
   ]
  },
  {
   "cell_type": "code",
   "execution_count": 36,
   "id": "e0058ec4-b912-40c2-bbd2-bb1114f42db6",
   "metadata": {},
   "outputs": [
    {
     "data": {
      "text/plain": [
       "'Inception, Forrest Gump, The Lord of the Rings: The Fellowship of the Ring, The Empire Strikes Back, Star Wars'"
      ]
     },
     "execution_count": 36,
     "metadata": {},
     "output_type": "execute_result"
    }
   ],
   "source": [
    "', '.join(sorted_df[['title']].head(5).title.values)"
   ]
  },
  {
   "cell_type": "markdown",
   "id": "d12935b5-9f56-4abc-b6de-81be1862e91d",
   "metadata": {},
   "source": [
    "### Question 14 - DS1-3\n",
    "Create the correlation matrix of the dataset and select the appropriate option: \n",
    "- Vote count has the maximum correlation coefficient with popularity and budget \n",
    "\n",
    "- A correlation coefficiet of 0.6 indicates a stronger relationship than a correlation coefficient of –0.7 \n",
    "\n",
    "- According to the correlation matrix, it is worth exploring the increase of budget to increase revenue"
   ]
  },
  {
   "cell_type": "code",
   "execution_count": 30,
   "id": "d9a3626c-2fef-4add-b02b-bbd3aedb46f8",
   "metadata": {},
   "outputs": [
    {
     "data": {
      "image/png": "[encoded data removed]",
      "text/plain": [
       "<Figure size 800x600 with 2 Axes>"
      ]
     },
     "metadata": {},
     "output_type": "display_data"
    }
   ],
   "source": [
    "def create_correlation_matrix(test_df):\n",
    "  correlation_matrix = test_df.corr()\n",
    "  return correlation_matrix\n",
    "\n",
    "temp_df = combined_df.select_dtypes(include=['number'])\n",
    "correlation_matrix = create_correlation_matrix(temp_df)\n",
    "\n",
    "plt.figure(figsize=(8, 6))\n",
    "sns.heatmap(correlation_matrix, annot=True, cmap='coolwarm', vmin=-1, vmax=1)\n",
    "plt.title('Correlation Heatmap')\n",
    "plt.show()"
   ]
  },
  {
   "cell_type": "markdown",
   "id": "09afa5e4-7d6b-45c2-a907-7e9c67a5ffeb",
   "metadata": {},
   "source": [
    "### Question 15 - DS1-5\n",
    "What was the vote average of the film with a crew of 168"
   ]
  },
  {
   "cell_type": "code",
   "execution_count": 38,
   "id": "5b4a0a08-d25f-4495-be0e-d52ed2765101",
   "metadata": {},
   "outputs": [],
   "source": [
    "import ast\n",
    "def extract_number_crew(row):\n",
    "    return len(ast.literal_eval(row))"
   ]
  },
  {
   "cell_type": "code",
   "execution_count": 39,
   "id": "2c0a4489-0a9f-4dde-856c-9b28aa96997e",
   "metadata": {},
   "outputs": [],
   "source": [
    "combined_df['crew_size'] = combined_df['crew'].apply(extract_number_crew)"
   ]
  },
  {
   "cell_type": "code",
   "execution_count": 40,
   "id": "328aaa8b-ce24-494b-8ebd-75e453ab2d57",
   "metadata": {},
   "outputs": [
    {
     "data": {
      "text/plain": [
       "2      141\n",
       "3      129\n",
       "9       92\n",
       "12      91\n",
       "10      91\n",
       "      ... \n",
       "168      1\n",
       "132      1\n",
       "126      1\n",
       "70       1\n",
       "172      1\n",
       "Name: crew_size, Length: 155, dtype: int64"
      ]
     },
     "execution_count": 40,
     "metadata": {},
     "output_type": "execute_result"
    }
   ],
   "source": [
    "combined_df['crew_size'].value_counts()"
   ]
  },
  {
   "cell_type": "code",
   "execution_count": 41,
   "id": "6a56c8fc-cd7c-46e9-bbdf-a13208a544eb",
   "metadata": {},
   "outputs": [
    {
     "data": {
      "text/plain": [
       "92    6.9\n",
       "Name: vote_average, dtype: float64"
      ]
     },
     "execution_count": 41,
     "metadata": {},
     "output_type": "execute_result"
    }
   ],
   "source": [
    "combined_df[combined_df.crew_size==168]['vote_average']"
   ]
  },
  {
   "cell_type": "markdown",
   "id": "e73a16d5-2c3a-460c-b39a-1e799df60d93",
   "metadata": {},
   "source": [
    "### Question 16 - DS1-8\n",
    "Which of the following file formats can be used to save the combined_df\n",
    "- png\n",
    "- tiff\n",
    "- csv\n",
    "- xlsx\n",
    "- doc"
   ]
  },
  {
   "cell_type": "code",
   "execution_count": null,
   "id": "67194c61-3279-4604-90b5-13d847647031",
   "metadata": {},
   "outputs": [],
   "source": []
  }
 ],
 "metadata": {
  "kernelspec": {
   "display_name": "venv",
   "language": "python",
   "name": "venv"
  },
  "language_info": {
   "codemirror_mode": {
    "name": "ipython",
    "version": 3
   },
   "file_extension": ".py",
   "mimetype": "text/x-python",
   "name": "python",
   "nbconvert_exporter": "python",
   "pygments_lexer": "ipython3",
   "version": "3.10.12"
  }
 },
 "nbformat": 4,
 "nbformat_minor": 5
}
